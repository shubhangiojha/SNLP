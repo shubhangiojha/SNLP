{
  "cells": [
    {
      "cell_type": "code",
      "execution_count": null,
      "metadata": {
        "id": "MnsD1EBBWRp9"
      },
      "outputs": [],
      "source": [
        "import pandas as pd\n",
        "import numpy as np\n",
        "from sklearn.model_selection import train_test_split\n",
        "from sklearn.metrics import accuracy_score\n",
        "import re\n",
        "import nltk\n",
        "from nltk.tokenize import word_tokenize\n",
        "from nltk.corpus import stopwords\n",
        "import gensim.downloader as api\n",
        "from gensim.models import KeyedVectors\n",
        "import torch\n",
        "from torch.nn.utils.rnn import pad_sequence\n",
        "from torch.utils.data import DataLoader, Dataset\n",
        "import torch.nn as nn\n",
        "import torch.optim as optim"
      ]
    },
    {
      "cell_type": "code",
      "execution_count": null,
      "metadata": {
        "colab": {
          "base_uri": "https://localhost:8080/"
        },
        "id": "o434beEerHqX",
        "outputId": "8af3efae-46bd-4ae8-c9ca-f13cf475bd27"
      },
      "outputs": [
        {
          "output_type": "stream",
          "name": "stderr",
          "text": [
            "[nltk_data] Downloading package stopwords to /root/nltk_data...\n",
            "[nltk_data]   Package stopwords is already up-to-date!\n",
            "[nltk_data] Downloading package punkt to /root/nltk_data...\n",
            "[nltk_data]   Package punkt is already up-to-date!\n"
          ]
        },
        {
          "output_type": "execute_result",
          "data": {
            "text/plain": [
              "True"
            ]
          },
          "metadata": {},
          "execution_count": 8
        }
      ],
      "source": [
        "nltk.download('stopwords')\n",
        "nltk.download('punkt')"
      ]
    },
    {
      "cell_type": "code",
      "execution_count": null,
      "metadata": {
        "colab": {
          "base_uri": "https://localhost:8080/",
          "height": 206
        },
        "id": "WA0-8XSsWj7j",
        "outputId": "7a6f649c-35dc-4750-ca61-1d661a08f637"
      },
      "outputs": [
        {
          "output_type": "execute_result",
          "data": {
            "text/plain": [
              "                                              review sentiment\n",
              "0  One of the other reviewers has mentioned that ...  positive\n",
              "1  A wonderful little production. <br /><br />The...  positive\n",
              "2  I thought this was a wonderful way to spend ti...  positive\n",
              "3  Basically there's a family where a little boy ...  negative\n",
              "4  Petter Mattei's \"Love in the Time of Money\" is...  positive"
            ],
            "text/html": [
              "\n",
              "  <div id=\"df-632b0617-c76d-4bca-a536-0afab5f7c571\" class=\"colab-df-container\">\n",
              "    <div>\n",
              "<style scoped>\n",
              "    .dataframe tbody tr th:only-of-type {\n",
              "        vertical-align: middle;\n",
              "    }\n",
              "\n",
              "    .dataframe tbody tr th {\n",
              "        vertical-align: top;\n",
              "    }\n",
              "\n",
              "    .dataframe thead th {\n",
              "        text-align: right;\n",
              "    }\n",
              "</style>\n",
              "<table border=\"1\" class=\"dataframe\">\n",
              "  <thead>\n",
              "    <tr style=\"text-align: right;\">\n",
              "      <th></th>\n",
              "      <th>review</th>\n",
              "      <th>sentiment</th>\n",
              "    </tr>\n",
              "  </thead>\n",
              "  <tbody>\n",
              "    <tr>\n",
              "      <th>0</th>\n",
              "      <td>One of the other reviewers has mentioned that ...</td>\n",
              "      <td>positive</td>\n",
              "    </tr>\n",
              "    <tr>\n",
              "      <th>1</th>\n",
              "      <td>A wonderful little production. &lt;br /&gt;&lt;br /&gt;The...</td>\n",
              "      <td>positive</td>\n",
              "    </tr>\n",
              "    <tr>\n",
              "      <th>2</th>\n",
              "      <td>I thought this was a wonderful way to spend ti...</td>\n",
              "      <td>positive</td>\n",
              "    </tr>\n",
              "    <tr>\n",
              "      <th>3</th>\n",
              "      <td>Basically there's a family where a little boy ...</td>\n",
              "      <td>negative</td>\n",
              "    </tr>\n",
              "    <tr>\n",
              "      <th>4</th>\n",
              "      <td>Petter Mattei's \"Love in the Time of Money\" is...</td>\n",
              "      <td>positive</td>\n",
              "    </tr>\n",
              "  </tbody>\n",
              "</table>\n",
              "</div>\n",
              "    <div class=\"colab-df-buttons\">\n",
              "\n",
              "  <div class=\"colab-df-container\">\n",
              "    <button class=\"colab-df-convert\" onclick=\"convertToInteractive('df-632b0617-c76d-4bca-a536-0afab5f7c571')\"\n",
              "            title=\"Convert this dataframe to an interactive table.\"\n",
              "            style=\"display:none;\">\n",
              "\n",
              "  <svg xmlns=\"http://www.w3.org/2000/svg\" height=\"24px\" viewBox=\"0 -960 960 960\">\n",
              "    <path d=\"M120-120v-720h720v720H120Zm60-500h600v-160H180v160Zm220 220h160v-160H400v160Zm0 220h160v-160H400v160ZM180-400h160v-160H180v160Zm440 0h160v-160H620v160ZM180-180h160v-160H180v160Zm440 0h160v-160H620v160Z\"/>\n",
              "  </svg>\n",
              "    </button>\n",
              "\n",
              "  <style>\n",
              "    .colab-df-container {\n",
              "      display:flex;\n",
              "      gap: 12px;\n",
              "    }\n",
              "\n",
              "    .colab-df-convert {\n",
              "      background-color: #E8F0FE;\n",
              "      border: none;\n",
              "      border-radius: 50%;\n",
              "      cursor: pointer;\n",
              "      display: none;\n",
              "      fill: #1967D2;\n",
              "      height: 32px;\n",
              "      padding: 0 0 0 0;\n",
              "      width: 32px;\n",
              "    }\n",
              "\n",
              "    .colab-df-convert:hover {\n",
              "      background-color: #E2EBFA;\n",
              "      box-shadow: 0px 1px 2px rgba(60, 64, 67, 0.3), 0px 1px 3px 1px rgba(60, 64, 67, 0.15);\n",
              "      fill: #174EA6;\n",
              "    }\n",
              "\n",
              "    .colab-df-buttons div {\n",
              "      margin-bottom: 4px;\n",
              "    }\n",
              "\n",
              "    [theme=dark] .colab-df-convert {\n",
              "      background-color: #3B4455;\n",
              "      fill: #D2E3FC;\n",
              "    }\n",
              "\n",
              "    [theme=dark] .colab-df-convert:hover {\n",
              "      background-color: #434B5C;\n",
              "      box-shadow: 0px 1px 3px 1px rgba(0, 0, 0, 0.15);\n",
              "      filter: drop-shadow(0px 1px 2px rgba(0, 0, 0, 0.3));\n",
              "      fill: #FFFFFF;\n",
              "    }\n",
              "  </style>\n",
              "\n",
              "    <script>\n",
              "      const buttonEl =\n",
              "        document.querySelector('#df-632b0617-c76d-4bca-a536-0afab5f7c571 button.colab-df-convert');\n",
              "      buttonEl.style.display =\n",
              "        google.colab.kernel.accessAllowed ? 'block' : 'none';\n",
              "\n",
              "      async function convertToInteractive(key) {\n",
              "        const element = document.querySelector('#df-632b0617-c76d-4bca-a536-0afab5f7c571');\n",
              "        const dataTable =\n",
              "          await google.colab.kernel.invokeFunction('convertToInteractive',\n",
              "                                                    [key], {});\n",
              "        if (!dataTable) return;\n",
              "\n",
              "        const docLinkHtml = 'Like what you see? Visit the ' +\n",
              "          '<a target=\"_blank\" href=https://colab.research.google.com/notebooks/data_table.ipynb>data table notebook</a>'\n",
              "          + ' to learn more about interactive tables.';\n",
              "        element.innerHTML = '';\n",
              "        dataTable['output_type'] = 'display_data';\n",
              "        await google.colab.output.renderOutput(dataTable, element);\n",
              "        const docLink = document.createElement('div');\n",
              "        docLink.innerHTML = docLinkHtml;\n",
              "        element.appendChild(docLink);\n",
              "      }\n",
              "    </script>\n",
              "  </div>\n",
              "\n",
              "\n",
              "<div id=\"df-4f5d0f1a-35cc-4f0c-8869-955f1ad656a9\">\n",
              "  <button class=\"colab-df-quickchart\" onclick=\"quickchart('df-4f5d0f1a-35cc-4f0c-8869-955f1ad656a9')\"\n",
              "            title=\"Suggest charts\"\n",
              "            style=\"display:none;\">\n",
              "\n",
              "<svg xmlns=\"http://www.w3.org/2000/svg\" height=\"24px\"viewBox=\"0 0 24 24\"\n",
              "     width=\"24px\">\n",
              "    <g>\n",
              "        <path d=\"M19 3H5c-1.1 0-2 .9-2 2v14c0 1.1.9 2 2 2h14c1.1 0 2-.9 2-2V5c0-1.1-.9-2-2-2zM9 17H7v-7h2v7zm4 0h-2V7h2v10zm4 0h-2v-4h2v4z\"/>\n",
              "    </g>\n",
              "</svg>\n",
              "  </button>\n",
              "\n",
              "<style>\n",
              "  .colab-df-quickchart {\n",
              "      --bg-color: #E8F0FE;\n",
              "      --fill-color: #1967D2;\n",
              "      --hover-bg-color: #E2EBFA;\n",
              "      --hover-fill-color: #174EA6;\n",
              "      --disabled-fill-color: #AAA;\n",
              "      --disabled-bg-color: #DDD;\n",
              "  }\n",
              "\n",
              "  [theme=dark] .colab-df-quickchart {\n",
              "      --bg-color: #3B4455;\n",
              "      --fill-color: #D2E3FC;\n",
              "      --hover-bg-color: #434B5C;\n",
              "      --hover-fill-color: #FFFFFF;\n",
              "      --disabled-bg-color: #3B4455;\n",
              "      --disabled-fill-color: #666;\n",
              "  }\n",
              "\n",
              "  .colab-df-quickchart {\n",
              "    background-color: var(--bg-color);\n",
              "    border: none;\n",
              "    border-radius: 50%;\n",
              "    cursor: pointer;\n",
              "    display: none;\n",
              "    fill: var(--fill-color);\n",
              "    height: 32px;\n",
              "    padding: 0;\n",
              "    width: 32px;\n",
              "  }\n",
              "\n",
              "  .colab-df-quickchart:hover {\n",
              "    background-color: var(--hover-bg-color);\n",
              "    box-shadow: 0 1px 2px rgba(60, 64, 67, 0.3), 0 1px 3px 1px rgba(60, 64, 67, 0.15);\n",
              "    fill: var(--button-hover-fill-color);\n",
              "  }\n",
              "\n",
              "  .colab-df-quickchart-complete:disabled,\n",
              "  .colab-df-quickchart-complete:disabled:hover {\n",
              "    background-color: var(--disabled-bg-color);\n",
              "    fill: var(--disabled-fill-color);\n",
              "    box-shadow: none;\n",
              "  }\n",
              "\n",
              "  .colab-df-spinner {\n",
              "    border: 2px solid var(--fill-color);\n",
              "    border-color: transparent;\n",
              "    border-bottom-color: var(--fill-color);\n",
              "    animation:\n",
              "      spin 1s steps(1) infinite;\n",
              "  }\n",
              "\n",
              "  @keyframes spin {\n",
              "    0% {\n",
              "      border-color: transparent;\n",
              "      border-bottom-color: var(--fill-color);\n",
              "      border-left-color: var(--fill-color);\n",
              "    }\n",
              "    20% {\n",
              "      border-color: transparent;\n",
              "      border-left-color: var(--fill-color);\n",
              "      border-top-color: var(--fill-color);\n",
              "    }\n",
              "    30% {\n",
              "      border-color: transparent;\n",
              "      border-left-color: var(--fill-color);\n",
              "      border-top-color: var(--fill-color);\n",
              "      border-right-color: var(--fill-color);\n",
              "    }\n",
              "    40% {\n",
              "      border-color: transparent;\n",
              "      border-right-color: var(--fill-color);\n",
              "      border-top-color: var(--fill-color);\n",
              "    }\n",
              "    60% {\n",
              "      border-color: transparent;\n",
              "      border-right-color: var(--fill-color);\n",
              "    }\n",
              "    80% {\n",
              "      border-color: transparent;\n",
              "      border-right-color: var(--fill-color);\n",
              "      border-bottom-color: var(--fill-color);\n",
              "    }\n",
              "    90% {\n",
              "      border-color: transparent;\n",
              "      border-bottom-color: var(--fill-color);\n",
              "    }\n",
              "  }\n",
              "</style>\n",
              "\n",
              "  <script>\n",
              "    async function quickchart(key) {\n",
              "      const quickchartButtonEl =\n",
              "        document.querySelector('#' + key + ' button');\n",
              "      quickchartButtonEl.disabled = true;  // To prevent multiple clicks.\n",
              "      quickchartButtonEl.classList.add('colab-df-spinner');\n",
              "      try {\n",
              "        const charts = await google.colab.kernel.invokeFunction(\n",
              "            'suggestCharts', [key], {});\n",
              "      } catch (error) {\n",
              "        console.error('Error during call to suggestCharts:', error);\n",
              "      }\n",
              "      quickchartButtonEl.classList.remove('colab-df-spinner');\n",
              "      quickchartButtonEl.classList.add('colab-df-quickchart-complete');\n",
              "    }\n",
              "    (() => {\n",
              "      let quickchartButtonEl =\n",
              "        document.querySelector('#df-4f5d0f1a-35cc-4f0c-8869-955f1ad656a9 button');\n",
              "      quickchartButtonEl.style.display =\n",
              "        google.colab.kernel.accessAllowed ? 'block' : 'none';\n",
              "    })();\n",
              "  </script>\n",
              "</div>\n",
              "\n",
              "    </div>\n",
              "  </div>\n"
            ],
            "application/vnd.google.colaboratory.intrinsic+json": {
              "type": "dataframe",
              "variable_name": "df",
              "summary": "{\n  \"name\": \"df\",\n  \"rows\": 50000,\n  \"fields\": [\n    {\n      \"column\": \"review\",\n      \"properties\": {\n        \"dtype\": \"string\",\n        \"num_unique_values\": 49582,\n        \"samples\": [\n          \"\\\"Soul Plane\\\" is a horrible attempt at comedy that only should appeal people with thick skulls, bloodshot eyes and furry pawns. <br /><br />The plot is not only incoherent but also non-existent, acting is mostly sub sub-par with a gang of highly moronic and dreadful characters thrown in for bad measure, jokes are often spotted miles ahead and almost never even a bit amusing. This movie lacks any structure and is full of racial stereotypes that must have seemed old even in the fifties, the only thing it really has going for it is some pretty ladies, but really, if you want that you can rent something from the \\\"Adult\\\" section. OK?<br /><br />I can hardly see anything here to recommend since you'll probably have a lot a better and productive time chasing rats with a sledgehammer or inventing waterproof teabags or whatever.<br /><br />2/10\",\n          \"Guest from the Future tells a fascinating story of time travel, friendship, battle of good and evil -- all with a small budget, child actors, and few special effects. Something for Spielberg and Lucas to learn from. ;) A sixth-grader Kolya \\\"Nick\\\" Gerasimov finds a time machine in the basement of a decrepit building and travels 100 years into the future. He discovers a near-perfect, utopian society where robots play guitars and write poetry, everyone is kind to each other and people enjoy everything technology has to offer. Alice is the daughter of a prominent scientist who invented a device called Mielophone that allows to read minds of humans and animals. The device can be put to both good and bad use, depending on whose hands it falls into. When two evil space pirates from Saturn who want to rule the universe attempt to steal Mielophone, it falls into the hands of 20th century school boy Nick. With the pirates hot on his tracks, he travels back to his time, followed by the pirates, and Alice. Chaos, confusion and funny situations follow as the luckless pirates try to blend in with the earthlings. Alice enrolls in the same school Nick goes to and demonstrates superhuman abilities in PE class. The catch is, Alice doesn't know what Nick looks like, while the pirates do. Also, the pirates are able to change their appearance and turn literally into anyone. (Hmm, I wonder if this is where James Cameron got the idea for Terminator...) Who gets to Nick -- and Mielophone -- first? Excellent plot, non-stop adventures, and great soundtrack. I wish Hollywood made kid movies like this one...\",\n          \"\\\"National Treasure\\\" (2004) is a thoroughly misguided hodge-podge of plot entanglements that borrow from nearly every cloak and dagger government conspiracy clich\\u00e9 that has ever been written. The film stars Nicholas Cage as Benjamin Franklin Gates (how precious is that, I ask you?); a seemingly normal fellow who, for no other reason than being of a lineage of like-minded misguided fortune hunters, decides to steal a 'national treasure' that has been hidden by the United States founding fathers. After a bit of subtext and background that plays laughably (unintentionally) like Indiana Jones meets The Patriot, the film degenerates into one misguided whimsy after another \\u0096 attempting to create a 'Stanley Goodspeed' regurgitation of Nicholas Cage and launch the whole convoluted mess forward with a series of high octane, but disconnected misadventures.<br /><br />The relevancy and logic to having George Washington and his motley crew of patriots burying a king's ransom someplace on native soil, and then, going through the meticulous plan of leaving clues scattered throughout U.S. currency art work, is something that director Jon Turteltaub never quite gets around to explaining. Couldn't Washington found better usage for such wealth during the start up of the country? Hence, we are left with a mystery built on top of an enigma that is already on shaky ground by the time Ben appoints himself the new custodian of this untold wealth. Ben's intentions are noble \\u0096 if confusing. He's set on protecting the treasure. For who and when?\\u0085your guess is as good as mine.<br /><br />But there are a few problems with Ben's crusade. First up, his friend, Ian Holmes (Sean Bean) decides that he can't wait for Ben to make up his mind about stealing the Declaration of Independence from the National Archives (oh, yeah \\u0096 brilliant idea!). Presumably, the back of that famous document holds the secret answer to the ultimate fortune. So Ian tries to kill Ben. The assassination attempt is, of course, unsuccessful, if overly melodramatic. It also affords Ben the opportunity to pick up, and pick on, the very sultry curator of the archives, Abigail Chase (Diane Kruger). She thinks Ben is clearly a nut \\u0096 at least at the beginning. But true to action/romance form, Abby's resolve melts quicker than you can say, \\\"is that the Hope Diamond?\\\" The film moves into full X-File-ish mode, as the FBI, mistakenly believing that Ben is behind the theft, retaliate in various benign ways that lead to a multi-layering of action sequences reminiscent of Mission Impossible meets The Fugitive. Honestly, don't those guys ever get 'intelligence' information that is correct? In the final analysis, \\\"National Treasure\\\" isn't great film making, so much as it's a patchwork rehash of tired old bits from other movies, woven together from scraps, the likes of which would make IL' Betsy Ross blush.<br /><br />The Buena Vista DVD delivers a far more generous treatment than this film is deserving of. The anamorphic widescreen picture exhibits a very smooth and finely detailed image with very rich colors, natural flesh tones, solid blacks and clean whites. The stylized image is also free of blemishes and digital enhancements. The audio is 5.1 and delivers a nice sonic boom to your side and rear speakers with intensity and realism. Extras include a host of promotional junket material that is rather deep and over the top in its explanation of how and why this film was made. If only, as an audience, we had had more clarification as to why Ben and co. were chasing after an illusive treasure, this might have been one good flick. Extras conclude with the theatrical trailer, audio commentary and deleted scenes. Not for the faint-hearted \\u0096 just the thick-headed.\"\n        ],\n        \"semantic_type\": \"\",\n        \"description\": \"\"\n      }\n    },\n    {\n      \"column\": \"sentiment\",\n      \"properties\": {\n        \"dtype\": \"category\",\n        \"num_unique_values\": 2,\n        \"samples\": [\n          \"negative\",\n          \"positive\"\n        ],\n        \"semantic_type\": \"\",\n        \"description\": \"\"\n      }\n    }\n  ]\n}"
            }
          },
          "metadata": {},
          "execution_count": 9
        }
      ],
      "source": [
        "df = pd.read_csv('/content/IMDB Dataset.csv')\n",
        "df.head()"
      ]
    },
    {
      "cell_type": "code",
      "execution_count": null,
      "metadata": {
        "id": "cK9wqNAMY39Q"
      },
      "outputs": [],
      "source": [
        "df['sentiment'] = df['sentiment'].map({'positive': 1, 'negative': 0})"
      ]
    },
    {
      "cell_type": "code",
      "source": [
        "import spacy\n",
        "nlp = spacy.load('en_core_web_sm')"
      ],
      "metadata": {
        "id": "L4Xa89ivTCDf"
      },
      "execution_count": null,
      "outputs": []
    },
    {
      "cell_type": "code",
      "source": [
        "def tokenize(text):\n",
        "    return [token.text for token in nlp(text.lower())]\n",
        "df['tokens'] = df['review'].apply(tokenize)"
      ],
      "metadata": {
        "id": "O32gii7KTCGQ"
      },
      "execution_count": null,
      "outputs": []
    },
    {
      "cell_type": "code",
      "source": [
        "glove_vectors = api.load(\"glove-wiki-gigaword-100\")"
      ],
      "metadata": {
        "id": "48qJ4-zATCJQ"
      },
      "execution_count": null,
      "outputs": []
    },
    {
      "cell_type": "code",
      "source": [
        "embedding_dim = 100\n",
        "embedding_matrix = np.zeros((len(glove_vectors.key_to_index) + 1, embedding_dim))\n",
        "word_index = {word: i + 1 for i, word in enumerate(glove_vectors.key_to_index)}\n",
        "\n",
        "for word, i in word_index.items():\n",
        "    embedding_vector = glove_vectors[word] if word in glove_vectors else None\n",
        "    if embedding_vector is not None:\n",
        "        embedding_matrix[i] = embedding_vector"
      ],
      "metadata": {
        "id": "1IsN8zkCTCLy"
      },
      "execution_count": null,
      "outputs": []
    },
    {
      "cell_type": "code",
      "source": [
        "def text_to_sequence(tokens):\n",
        "    return [word_index.get(word, 0) for word in tokens]\n",
        "\n",
        "df['sequences'] = df['tokens'].apply(text_to_sequence)"
      ],
      "metadata": {
        "id": "P8VC1WOITCOe"
      },
      "execution_count": null,
      "outputs": []
    },
    {
      "cell_type": "code",
      "source": [
        "X_tensors = [torch.LongTensor(seq) for seq in df['sequences']]\n",
        "X_padded = torch.nn.utils.rnn.pad_sequence(X_tensors, batch_first=True, padding_value=0)\n",
        "\n",
        "y = torch.FloatTensor(df['sentiment'].values)"
      ],
      "metadata": {
        "id": "t6CzHWHVTCRD"
      },
      "execution_count": null,
      "outputs": []
    },
    {
      "cell_type": "code",
      "source": [
        "X_train, X_test, y_train, y_test = train_test_split(X_padded, y, test_size=0.2, random_state=42)"
      ],
      "metadata": {
        "id": "L6QOa9RETCTz"
      },
      "execution_count": null,
      "outputs": []
    },
    {
      "cell_type": "code",
      "source": [
        "class RNNModel(nn.Module):\n",
        "    def __init__(self, input_dim, embedding_dim, hidden_dim, output_dim, embedding_matrix):\n",
        "        super(RNNModel, self).__init__()\n",
        "        self.embedding = nn.Embedding.from_pretrained(torch.FloatTensor(embedding_matrix), freeze=False)\n",
        "        self.rnn = nn.RNN(embedding_dim, hidden_dim, batch_first=True)\n",
        "        self.fc = nn.Linear(hidden_dim, output_dim)\n",
        "\n",
        "    def forward(self, text):\n",
        "        embedded = self.embedding(text)\n",
        "        output, hidden = self.rnn(embedded)\n",
        "        return self.fc(hidden[-1])"
      ],
      "metadata": {
        "id": "8OCBULUTTCWX"
      },
      "execution_count": null,
      "outputs": []
    },
    {
      "cell_type": "code",
      "source": [
        "class LSTMModel(nn.Module):\n",
        "    def __init__(self, input_dim, embedding_dim, hidden_dim, output_dim, embedding_matrix):\n",
        "        super(LSTMModel, self).__init__()\n",
        "        self.embedding = nn.Embedding.from_pretrained(torch.FloatTensor(embedding_matrix), freeze=False)\n",
        "        self.lstm = nn.LSTM(embedding_dim, hidden_dim, batch_first=True)\n",
        "        self.fc = nn.Linear(hidden_dim, output_dim)\n",
        "\n",
        "    def forward(self, text):\n",
        "        embedded = self.embedding(text)\n",
        "        output, (hidden, cell) = self.lstm(embedded)\n",
        "        return self.fc(hidden[-1])"
      ],
      "metadata": {
        "id": "YoyLnQvQTCZA"
      },
      "execution_count": null,
      "outputs": []
    },
    {
      "cell_type": "code",
      "source": [
        "def train_model(model, X_train, y_train, optimizer, criterion, epochs=2):\n",
        "    model.train()\n",
        "    for epoch in range(epochs):\n",
        "        optimizer.zero_grad()\n",
        "        inputs = torch.LongTensor(X_train)\n",
        "        labels = torch.FloatTensor(y_train).unsqueeze(1)\n",
        "        predictions = model(inputs)\n",
        "        loss = criterion(predictions, labels)\n",
        "        loss.backward()\n",
        "        optimizer.step()\n",
        "        print(f\"Epoch {epoch + 1}, Loss: {loss.item():.4f}\")"
      ],
      "metadata": {
        "id": "GzcVoZzCTCbq"
      },
      "execution_count": null,
      "outputs": []
    },
    {
      "cell_type": "code",
      "source": [
        "input_dim = len(word_index) + 1\n",
        "hidden_dim = 256\n",
        "output_dim = 1\n",
        "\n",
        "# Vanilla RNN\n",
        "rnn_model = RNNModel(input_dim, embedding_dim, hidden_dim, output_dim, embedding_matrix)\n",
        "optimizer_rnn = torch.optim.Adam(rnn_model.parameters())\n",
        "criterion = nn.BCEWithLogitsLoss()\n",
        "\n",
        "train_model(rnn_model, X_train, y_train, optimizer_rnn, criterion)\n",
        "\n",
        "# LSTM\n",
        "lstm_model = LSTMModel(input_dim, embedding_dim, hidden_dim, output_dim, embedding_matrix)\n",
        "optimizer_lstm = torch.optim.Adam(lstm_model.parameters())\n",
        "\n",
        "train_model(lstm_model, X_train, y_train, optimizer_lstm, criterion)"
      ],
      "metadata": {
        "id": "83B5SM1ITCeM"
      },
      "execution_count": null,
      "outputs": []
    },
    {
      "cell_type": "code",
      "source": [
        "# Vanilla RNN with on-the-fly embeddings\n",
        "rnn_model_on_the_fly = RNNModel(input_dim, embedding_dim, hidden_dim, output_dim, np.zeros((input_dim, embedding_dim)))\n",
        "optimizer_rnn_on_the_fly = torch.optim.Adam(rnn_model_on_the_fly.parameters())\n",
        "\n",
        "train_model(rnn_model_on_the_fly, X_train, y_train, optimizer_rnn_on_the_fly, criterion)"
      ],
      "metadata": {
        "id": "Kcpl6IP0TChG"
      },
      "execution_count": null,
      "outputs": []
    },
    {
      "cell_type": "code",
      "source": [
        "# LSTM with on-the-fly embeddings\n",
        "lstm_model_on_the_fly = LSTMModel(input_dim, embedding_dim, hidden_dim, output_dim, np.zeros((input_dim, embedding_dim)))\n",
        "optimizer_lstm_on_the_fly = torch.optim.Adam(lstm_model_on_the_fly.parameters())\n",
        "\n",
        "train_model(lstm_model_on_the_fly, X_train, y_train, optimizer_lstm_on_the_fly, criterion)"
      ],
      "metadata": {
        "id": "_REZv1GaWTd8"
      },
      "execution_count": null,
      "outputs": []
    },
    {
      "cell_type": "markdown",
      "source": [
        "![image.png](data:image/png;base64,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)"
      ],
      "metadata": {
        "id": "IdCbEAxhjJdY"
      }
    },
    {
      "cell_type": "code",
      "source": [
        "#the session keeps crashing for the last three cell"
      ],
      "metadata": {
        "id": "cOsmBkJq13ao"
      },
      "execution_count": 1,
      "outputs": []
    }
  ],
  "metadata": {
    "accelerator": "GPU",
    "colab": {
      "gpuType": "T4",
      "provenance": []
    },
    "kernelspec": {
      "display_name": "Python 3",
      "name": "python3"
    },
    "language_info": {
      "name": "python"
    }
  },
  "nbformat": 4,
  "nbformat_minor": 0
}