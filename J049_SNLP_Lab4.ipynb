{
  "cells": [
    {
      "cell_type": "code",
      "source": [
        "pip install datasets"
      ],
      "metadata": {
        "colab": {
          "base_uri": "https://localhost:8080/"
        },
        "id": "3pM1TU5GNOqN",
        "outputId": "cd0f5f7c-6f06-4c09-9db0-d86a4817c5a7"
      },
      "id": "3pM1TU5GNOqN",
      "execution_count": 2,
      "outputs": [
        {
          "output_type": "stream",
          "name": "stdout",
          "text": [
            "Requirement already satisfied: datasets in /usr/local/lib/python3.10/dist-packages (2.21.0)\n",
            "Requirement already satisfied: filelock in /usr/local/lib/python3.10/dist-packages (from datasets) (3.15.4)\n",
            "Requirement already satisfied: numpy>=1.17 in /usr/local/lib/python3.10/dist-packages (from datasets) (1.26.4)\n",
            "Requirement already satisfied: pyarrow>=15.0.0 in /usr/local/lib/python3.10/dist-packages (from datasets) (17.0.0)\n",
            "Requirement already satisfied: dill<0.3.9,>=0.3.0 in /usr/local/lib/python3.10/dist-packages (from datasets) (0.3.8)\n",
            "Requirement already satisfied: pandas in /usr/local/lib/python3.10/dist-packages (from datasets) (2.1.4)\n",
            "Requirement already satisfied: requests>=2.32.2 in /usr/local/lib/python3.10/dist-packages (from datasets) (2.32.3)\n",
            "Requirement already satisfied: tqdm>=4.66.3 in /usr/local/lib/python3.10/dist-packages (from datasets) (4.66.5)\n",
            "Requirement already satisfied: xxhash in /usr/local/lib/python3.10/dist-packages (from datasets) (3.5.0)\n",
            "Requirement already satisfied: multiprocess in /usr/local/lib/python3.10/dist-packages (from datasets) (0.70.16)\n",
            "Requirement already satisfied: fsspec<=2024.6.1,>=2023.1.0 in /usr/local/lib/python3.10/dist-packages (from fsspec[http]<=2024.6.1,>=2023.1.0->datasets) (2024.6.1)\n",
            "Requirement already satisfied: aiohttp in /usr/local/lib/python3.10/dist-packages (from datasets) (3.10.5)\n",
            "Requirement already satisfied: huggingface-hub>=0.21.2 in /usr/local/lib/python3.10/dist-packages (from datasets) (0.23.5)\n",
            "Requirement already satisfied: packaging in /usr/local/lib/python3.10/dist-packages (from datasets) (24.1)\n",
            "Requirement already satisfied: pyyaml>=5.1 in /usr/local/lib/python3.10/dist-packages (from datasets) (6.0.2)\n",
            "Requirement already satisfied: aiohappyeyeballs>=2.3.0 in /usr/local/lib/python3.10/dist-packages (from aiohttp->datasets) (2.4.0)\n",
            "Requirement already satisfied: aiosignal>=1.1.2 in /usr/local/lib/python3.10/dist-packages (from aiohttp->datasets) (1.3.1)\n",
            "Requirement already satisfied: attrs>=17.3.0 in /usr/local/lib/python3.10/dist-packages (from aiohttp->datasets) (24.2.0)\n",
            "Requirement already satisfied: frozenlist>=1.1.1 in /usr/local/lib/python3.10/dist-packages (from aiohttp->datasets) (1.4.1)\n",
            "Requirement already satisfied: multidict<7.0,>=4.5 in /usr/local/lib/python3.10/dist-packages (from aiohttp->datasets) (6.0.5)\n",
            "Requirement already satisfied: yarl<2.0,>=1.0 in /usr/local/lib/python3.10/dist-packages (from aiohttp->datasets) (1.9.4)\n",
            "Requirement already satisfied: async-timeout<5.0,>=4.0 in /usr/local/lib/python3.10/dist-packages (from aiohttp->datasets) (4.0.3)\n",
            "Requirement already satisfied: typing-extensions>=3.7.4.3 in /usr/local/lib/python3.10/dist-packages (from huggingface-hub>=0.21.2->datasets) (4.12.2)\n",
            "Requirement already satisfied: charset-normalizer<4,>=2 in /usr/local/lib/python3.10/dist-packages (from requests>=2.32.2->datasets) (3.3.2)\n",
            "Requirement already satisfied: idna<4,>=2.5 in /usr/local/lib/python3.10/dist-packages (from requests>=2.32.2->datasets) (3.8)\n",
            "Requirement already satisfied: urllib3<3,>=1.21.1 in /usr/local/lib/python3.10/dist-packages (from requests>=2.32.2->datasets) (2.0.7)\n",
            "Requirement already satisfied: certifi>=2017.4.17 in /usr/local/lib/python3.10/dist-packages (from requests>=2.32.2->datasets) (2024.7.4)\n",
            "Requirement already satisfied: python-dateutil>=2.8.2 in /usr/local/lib/python3.10/dist-packages (from pandas->datasets) (2.8.2)\n",
            "Requirement already satisfied: pytz>=2020.1 in /usr/local/lib/python3.10/dist-packages (from pandas->datasets) (2024.1)\n",
            "Requirement already satisfied: tzdata>=2022.1 in /usr/local/lib/python3.10/dist-packages (from pandas->datasets) (2024.1)\n",
            "Requirement already satisfied: six>=1.5 in /usr/local/lib/python3.10/dist-packages (from python-dateutil>=2.8.2->pandas->datasets) (1.16.0)\n"
          ]
        }
      ]
    },
    {
      "cell_type": "code",
      "execution_count": 3,
      "id": "943b730d",
      "metadata": {
        "id": "943b730d"
      },
      "outputs": [],
      "source": [
        "import pandas as pd\n",
        "import numpy as np\n",
        "import torch\n",
        "import torch.nn as nn\n",
        "import torch.optim as optim\n",
        "from sklearn.model_selection import train_test_split\n",
        "from transformers import AutoTokenizer, AutoModelForSequenceClassification, AdamW, DataCollatorWithPadding\n",
        "from datasets import load_dataset\n",
        "from torch.utils.data import DataLoader\n",
        "from transformers import get_scheduler\n",
        "from tqdm.auto import tqdm\n",
        "import transformers"
      ]
    },
    {
      "cell_type": "code",
      "execution_count": 4,
      "id": "372941bc",
      "metadata": {
        "id": "372941bc",
        "colab": {
          "base_uri": "https://localhost:8080/"
        },
        "outputId": "76b92403-b966-49c4-cac9-fefd2ff2bdbc"
      },
      "outputs": [
        {
          "output_type": "stream",
          "name": "stderr",
          "text": [
            "/usr/local/lib/python3.10/dist-packages/huggingface_hub/utils/_token.py:89: UserWarning: \n",
            "The secret `HF_TOKEN` does not exist in your Colab secrets.\n",
            "To authenticate with the Hugging Face Hub, create a token in your settings tab (https://huggingface.co/settings/tokens), set it as secret in your Google Colab and restart your session.\n",
            "You will be able to reuse this secret in all of your notebooks.\n",
            "Please note that authentication is recommended but still optional to access public models or datasets.\n",
            "  warnings.warn(\n"
          ]
        }
      ],
      "source": [
        "data = load_dataset('imdb')"
      ]
    },
    {
      "cell_type": "code",
      "execution_count": 5,
      "id": "08b0acd6",
      "metadata": {
        "id": "08b0acd6"
      },
      "outputs": [],
      "source": [
        "tokenizer = AutoTokenizer.from_pretrained(\"bert-base-cased\")"
      ]
    },
    {
      "cell_type": "code",
      "execution_count": 6,
      "id": "907a1a1f",
      "metadata": {
        "id": "907a1a1f",
        "outputId": "6310b568-c720-462e-8270-ed991ad0f7d4",
        "colab": {
          "base_uri": "https://localhost:8080/"
        }
      },
      "outputs": [
        {
          "output_type": "stream",
          "name": "stderr",
          "text": [
            "Some weights of BertForSequenceClassification were not initialized from the model checkpoint at bert-base-uncased and are newly initialized: ['classifier.bias', 'classifier.weight']\n",
            "You should probably TRAIN this model on a down-stream task to be able to use it for predictions and inference.\n"
          ]
        }
      ],
      "source": [
        "model = AutoModelForSequenceClassification.from_pretrained('bert-base-uncased', num_labels = 2)"
      ]
    },
    {
      "cell_type": "code",
      "execution_count": 7,
      "id": "a1fcfb1f",
      "metadata": {
        "id": "a1fcfb1f"
      },
      "outputs": [],
      "source": [
        "def tokenize_function(example):\n",
        "    return tokenizer(example['text'], padding = 'max_length', truncation = True, max_length = 512)"
      ]
    },
    {
      "cell_type": "code",
      "execution_count": 8,
      "id": "6771222a",
      "metadata": {
        "id": "6771222a",
        "outputId": "6061f97d-8df0-41ab-aa88-d16e020e4b59",
        "colab": {
          "referenced_widgets": [
            "c546c58b29e14a44b7aa6827e77ef644",
            "49fe07990794493fa46948bbfa437f9e",
            "35a585ef8c93472a9101c61c006c56bb",
            "2d7af9943e8748aca6f3a0fa1e4d34c5",
            "be57d708a4a64167a293a77a747bba92",
            "9cc3d382dd5848e8a5ab203910d9ba34",
            "eb8d34affc4e4148822779c7f2e71e10",
            "4967d5491b9a40018071a683e0441d40",
            "d10ff949b8364a64bbd3d74b3492f462",
            "d77cea2f0bd14dbf9ed9fee5caa4321b",
            "aad401ad2443437f95603dcec31e16e6"
          ],
          "base_uri": "https://localhost:8080/",
          "height": 49
        }
      },
      "outputs": [
        {
          "output_type": "display_data",
          "data": {
            "text/plain": [
              "Map:   0%|          | 0/25000 [00:00<?, ? examples/s]"
            ],
            "application/vnd.jupyter.widget-view+json": {
              "version_major": 2,
              "version_minor": 0,
              "model_id": "c546c58b29e14a44b7aa6827e77ef644"
            }
          },
          "metadata": {}
        }
      ],
      "source": [
        "tokenized_data = data.map(tokenize_function, batched = True)"
      ]
    },
    {
      "cell_type": "code",
      "execution_count": 9,
      "id": "076616b8",
      "metadata": {
        "id": "076616b8"
      },
      "outputs": [],
      "source": [
        "data_collator = DataCollatorWithPadding(tokenizer = tokenizer)"
      ]
    },
    {
      "cell_type": "code",
      "execution_count": 10,
      "id": "2c9a5922",
      "metadata": {
        "id": "2c9a5922"
      },
      "outputs": [],
      "source": [
        "train_dataset = tokenized_data[\"train\"].shuffle(seed = 42).select(range(10000))\n",
        "test_dataset = tokenized_data[\"test\"].shuffle(seed = 42).select(range(2000))"
      ]
    },
    {
      "cell_type": "code",
      "execution_count": 11,
      "id": "374ce3b9",
      "metadata": {
        "id": "374ce3b9"
      },
      "outputs": [],
      "source": [
        "train_dataset.set_format('torch', columns = ['input_ids', 'attention_mask', 'label'])\n",
        "test_dataset.set_format('torch', columns = ['input_ids', 'attention_mask', 'label'])"
      ]
    },
    {
      "cell_type": "code",
      "execution_count": 12,
      "id": "48f3578b",
      "metadata": {
        "id": "48f3578b"
      },
      "outputs": [],
      "source": [
        "train_dataset = train_dataset.rename_column('label', 'labels')\n",
        "test_dataset = test_dataset.rename_column('label', 'labels')"
      ]
    },
    {
      "cell_type": "code",
      "execution_count": 13,
      "id": "54af846f",
      "metadata": {
        "id": "54af846f"
      },
      "outputs": [],
      "source": [
        "train_dataloader = DataLoader(train_dataset, shuffle = True, batch_size = 8, collate_fn = data_collator)\n",
        "test_dataloader = DataLoader(test_dataset, batch_size = 8, collate_fn = data_collator)"
      ]
    },
    {
      "cell_type": "code",
      "execution_count": 14,
      "id": "ec23ad5d",
      "metadata": {
        "id": "ec23ad5d"
      },
      "outputs": [],
      "source": [
        "def train_model(model, dataloader, optimizer, lr_scheduler, device):\n",
        "    model.train()\n",
        "    total_loss = 0\n",
        "\n",
        "    for batch in dataloader:\n",
        "        batch = {k: v.to(device) for k, v in batch.items()}\n",
        "        outputs = model(**batch)\n",
        "        loss = outputs.loss\n",
        "        total_loss += loss.item()\n",
        "\n",
        "        loss.backward()\n",
        "        optimizer.step()\n",
        "        lr_scheduler.step()\n",
        "        optimizer.zero_grad()\n",
        "    return total_loss/len(dataloader)"
      ]
    },
    {
      "cell_type": "code",
      "execution_count": 15,
      "id": "963e4758",
      "metadata": {
        "id": "963e4758"
      },
      "outputs": [],
      "source": [
        "def evaluation(model, dataloader, device):\n",
        "    model.eval()\n",
        "    total_loss = 0\n",
        "    correct_preds = 0\n",
        "    total = 0\n",
        "\n",
        "    with torch.no_grad():\n",
        "        for batch in dataloader:\n",
        "            batch = {k: v.to(device) for k, v in batch.items()}\n",
        "            outputs = model(**batch)\n",
        "            loss = outputs.loss\n",
        "            total_loss += loss.item()\n",
        "\n",
        "            preds = outputs.logits.argmax(dim = -1)\n",
        "            correct_preds += (preds == batch['labels']).sum().item()\n",
        "            total += len(batch['labels'])\n",
        "\n",
        "    return total_loss/len(dataloader), correct_preds/total"
      ]
    },
    {
      "cell_type": "code",
      "execution_count": 16,
      "id": "fcb451d9",
      "metadata": {
        "id": "fcb451d9",
        "colab": {
          "base_uri": "https://localhost:8080/"
        },
        "outputId": "3d967c26-6c17-48ae-a9ea-672e73ffa4fb"
      },
      "outputs": [
        {
          "output_type": "execute_result",
          "data": {
            "text/plain": [
              "BertForSequenceClassification(\n",
              "  (bert): BertModel(\n",
              "    (embeddings): BertEmbeddings(\n",
              "      (word_embeddings): Embedding(30522, 768, padding_idx=0)\n",
              "      (position_embeddings): Embedding(512, 768)\n",
              "      (token_type_embeddings): Embedding(2, 768)\n",
              "      (LayerNorm): LayerNorm((768,), eps=1e-12, elementwise_affine=True)\n",
              "      (dropout): Dropout(p=0.1, inplace=False)\n",
              "    )\n",
              "    (encoder): BertEncoder(\n",
              "      (layer): ModuleList(\n",
              "        (0-11): 12 x BertLayer(\n",
              "          (attention): BertAttention(\n",
              "            (self): BertSdpaSelfAttention(\n",
              "              (query): Linear(in_features=768, out_features=768, bias=True)\n",
              "              (key): Linear(in_features=768, out_features=768, bias=True)\n",
              "              (value): Linear(in_features=768, out_features=768, bias=True)\n",
              "              (dropout): Dropout(p=0.1, inplace=False)\n",
              "            )\n",
              "            (output): BertSelfOutput(\n",
              "              (dense): Linear(in_features=768, out_features=768, bias=True)\n",
              "              (LayerNorm): LayerNorm((768,), eps=1e-12, elementwise_affine=True)\n",
              "              (dropout): Dropout(p=0.1, inplace=False)\n",
              "            )\n",
              "          )\n",
              "          (intermediate): BertIntermediate(\n",
              "            (dense): Linear(in_features=768, out_features=3072, bias=True)\n",
              "            (intermediate_act_fn): GELUActivation()\n",
              "          )\n",
              "          (output): BertOutput(\n",
              "            (dense): Linear(in_features=3072, out_features=768, bias=True)\n",
              "            (LayerNorm): LayerNorm((768,), eps=1e-12, elementwise_affine=True)\n",
              "            (dropout): Dropout(p=0.1, inplace=False)\n",
              "          )\n",
              "        )\n",
              "      )\n",
              "    )\n",
              "    (pooler): BertPooler(\n",
              "      (dense): Linear(in_features=768, out_features=768, bias=True)\n",
              "      (activation): Tanh()\n",
              "    )\n",
              "  )\n",
              "  (dropout): Dropout(p=0.1, inplace=False)\n",
              "  (classifier): Linear(in_features=768, out_features=2, bias=True)\n",
              ")"
            ]
          },
          "metadata": {},
          "execution_count": 16
        }
      ],
      "source": [
        "device = torch.device('cuda' if torch.cuda.is_available() else 'cpu')\n",
        "epochs = 2\n",
        "\n",
        "model.to(device)"
      ]
    },
    {
      "cell_type": "code",
      "execution_count": 17,
      "id": "558308ca",
      "metadata": {
        "id": "558308ca"
      },
      "outputs": [],
      "source": [
        "optimizer = optim.AdamW(model.parameters(), lr = 5e-5)\n",
        "num_steps = epochs * len(train_dataloader)\n",
        "\n",
        "lr_scheduler = get_scheduler(name = 'linear', optimizer = optimizer, num_training_steps = num_steps, num_warmup_steps = 0)"
      ]
    },
    {
      "cell_type": "code",
      "execution_count": null,
      "id": "61c0f33d",
      "metadata": {
        "id": "61c0f33d"
      },
      "outputs": [],
      "source": [
        "for epoch in range(epochs):\n",
        "    train_loss = train_model(model, train_dataloader, optimizer, lr_scheduler, device)\n",
        "    test_loss, test_accuracy = evaluation(model, test_dataloader, device)\n",
        "\n",
        "    print(f'Epoch {epoch + 1}')\n",
        "    print(f'Training Loss: {train_loss: .3f}')\n",
        "    print(f'Testing Loss: {test_loss: .3f}')\n",
        "    print(f'Accuracy: {test_accuracy: .3f}')"
      ]
    },
    {
      "cell_type": "markdown",
      "source": [
        "![Screenshot 2024-09-02 202256.png](data:image/png;base64,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)"
      ],
      "metadata": {
        "id": "7e2AN-xcOZ2W"
      },
      "id": "7e2AN-xcOZ2W"
    },
    {
      "cell_type": "code",
      "source": [
        "#the session keeps crashing for the last cell"
      ],
      "metadata": {
        "id": "WGwVbfvdOQf7"
      },
      "id": "WGwVbfvdOQf7",
      "execution_count": 1,
      "outputs": []
    }
  ],
  "metadata": {
    "kernelspec": {
      "display_name": "Python 3",
      "name": "python3"
    },
    "language_info": {
      "codemirror_mode": {
        "name": "ipython",
        "version": 3
      },
      "file_extension": ".py",
      "mimetype": "text/x-python",
      "name": "python",
      "nbconvert_exporter": "python",
      "pygments_lexer": "ipython3",
      "version": "3.9.12"
    },
    "colab": {
      "provenance": [],
      "gpuType": "T4"
    },
    "accelerator": "GPU",
    "widgets": {
      "application/vnd.jupyter.widget-state+json": {
        "c546c58b29e14a44b7aa6827e77ef644": {
          "model_module": "@jupyter-widgets/controls",
          "model_name": "HBoxModel",
          "model_module_version": "1.5.0",
          "state": {
            "_dom_classes": [],
            "_model_module": "@jupyter-widgets/controls",
            "_model_module_version": "1.5.0",
            "_model_name": "HBoxModel",
            "_view_count": null,
            "_view_module": "@jupyter-widgets/controls",
            "_view_module_version": "1.5.0",
            "_view_name": "HBoxView",
            "box_style": "",
            "children": [
              "IPY_MODEL_49fe07990794493fa46948bbfa437f9e",
              "IPY_MODEL_35a585ef8c93472a9101c61c006c56bb",
              "IPY_MODEL_2d7af9943e8748aca6f3a0fa1e4d34c5"
            ],
            "layout": "IPY_MODEL_be57d708a4a64167a293a77a747bba92"
          }
        },
        "49fe07990794493fa46948bbfa437f9e": {
          "model_module": "@jupyter-widgets/controls",
          "model_name": "HTMLModel",
          "model_module_version": "1.5.0",
          "state": {
            "_dom_classes": [],
            "_model_module": "@jupyter-widgets/controls",
            "_model_module_version": "1.5.0",
            "_model_name": "HTMLModel",
            "_view_count": null,
            "_view_module": "@jupyter-widgets/controls",
            "_view_module_version": "1.5.0",
            "_view_name": "HTMLView",
            "description": "",
            "description_tooltip": null,
            "layout": "IPY_MODEL_9cc3d382dd5848e8a5ab203910d9ba34",
            "placeholder": "​",
            "style": "IPY_MODEL_eb8d34affc4e4148822779c7f2e71e10",
            "value": "Map: 100%"
          }
        },
        "35a585ef8c93472a9101c61c006c56bb": {
          "model_module": "@jupyter-widgets/controls",
          "model_name": "FloatProgressModel",
          "model_module_version": "1.5.0",
          "state": {
            "_dom_classes": [],
            "_model_module": "@jupyter-widgets/controls",
            "_model_module_version": "1.5.0",
            "_model_name": "FloatProgressModel",
            "_view_count": null,
            "_view_module": "@jupyter-widgets/controls",
            "_view_module_version": "1.5.0",
            "_view_name": "ProgressView",
            "bar_style": "success",
            "description": "",
            "description_tooltip": null,
            "layout": "IPY_MODEL_4967d5491b9a40018071a683e0441d40",
            "max": 25000,
            "min": 0,
            "orientation": "horizontal",
            "style": "IPY_MODEL_d10ff949b8364a64bbd3d74b3492f462",
            "value": 25000
          }
        },
        "2d7af9943e8748aca6f3a0fa1e4d34c5": {
          "model_module": "@jupyter-widgets/controls",
          "model_name": "HTMLModel",
          "model_module_version": "1.5.0",
          "state": {
            "_dom_classes": [],
            "_model_module": "@jupyter-widgets/controls",
            "_model_module_version": "1.5.0",
            "_model_name": "HTMLModel",
            "_view_count": null,
            "_view_module": "@jupyter-widgets/controls",
            "_view_module_version": "1.5.0",
            "_view_name": "HTMLView",
            "description": "",
            "description_tooltip": null,
            "layout": "IPY_MODEL_d77cea2f0bd14dbf9ed9fee5caa4321b",
            "placeholder": "​",
            "style": "IPY_MODEL_aad401ad2443437f95603dcec31e16e6",
            "value": " 25000/25000 [00:28&lt;00:00, 829.91 examples/s]"
          }
        },
        "be57d708a4a64167a293a77a747bba92": {
          "model_module": "@jupyter-widgets/base",
          "model_name": "LayoutModel",
          "model_module_version": "1.2.0",
          "state": {
            "_model_module": "@jupyter-widgets/base",
            "_model_module_version": "1.2.0",
            "_model_name": "LayoutModel",
            "_view_count": null,
            "_view_module": "@jupyter-widgets/base",
            "_view_module_version": "1.2.0",
            "_view_name": "LayoutView",
            "align_content": null,
            "align_items": null,
            "align_self": null,
            "border": null,
            "bottom": null,
            "display": null,
            "flex": null,
            "flex_flow": null,
            "grid_area": null,
            "grid_auto_columns": null,
            "grid_auto_flow": null,
            "grid_auto_rows": null,
            "grid_column": null,
            "grid_gap": null,
            "grid_row": null,
            "grid_template_areas": null,
            "grid_template_columns": null,
            "grid_template_rows": null,
            "height": null,
            "justify_content": null,
            "justify_items": null,
            "left": null,
            "margin": null,
            "max_height": null,
            "max_width": null,
            "min_height": null,
            "min_width": null,
            "object_fit": null,
            "object_position": null,
            "order": null,
            "overflow": null,
            "overflow_x": null,
            "overflow_y": null,
            "padding": null,
            "right": null,
            "top": null,
            "visibility": null,
            "width": null
          }
        },
        "9cc3d382dd5848e8a5ab203910d9ba34": {
          "model_module": "@jupyter-widgets/base",
          "model_name": "LayoutModel",
          "model_module_version": "1.2.0",
          "state": {
            "_model_module": "@jupyter-widgets/base",
            "_model_module_version": "1.2.0",
            "_model_name": "LayoutModel",
            "_view_count": null,
            "_view_module": "@jupyter-widgets/base",
            "_view_module_version": "1.2.0",
            "_view_name": "LayoutView",
            "align_content": null,
            "align_items": null,
            "align_self": null,
            "border": null,
            "bottom": null,
            "display": null,
            "flex": null,
            "flex_flow": null,
            "grid_area": null,
            "grid_auto_columns": null,
            "grid_auto_flow": null,
            "grid_auto_rows": null,
            "grid_column": null,
            "grid_gap": null,
            "grid_row": null,
            "grid_template_areas": null,
            "grid_template_columns": null,
            "grid_template_rows": null,
            "height": null,
            "justify_content": null,
            "justify_items": null,
            "left": null,
            "margin": null,
            "max_height": null,
            "max_width": null,
            "min_height": null,
            "min_width": null,
            "object_fit": null,
            "object_position": null,
            "order": null,
            "overflow": null,
            "overflow_x": null,
            "overflow_y": null,
            "padding": null,
            "right": null,
            "top": null,
            "visibility": null,
            "width": null
          }
        },
        "eb8d34affc4e4148822779c7f2e71e10": {
          "model_module": "@jupyter-widgets/controls",
          "model_name": "DescriptionStyleModel",
          "model_module_version": "1.5.0",
          "state": {
            "_model_module": "@jupyter-widgets/controls",
            "_model_module_version": "1.5.0",
            "_model_name": "DescriptionStyleModel",
            "_view_count": null,
            "_view_module": "@jupyter-widgets/base",
            "_view_module_version": "1.2.0",
            "_view_name": "StyleView",
            "description_width": ""
          }
        },
        "4967d5491b9a40018071a683e0441d40": {
          "model_module": "@jupyter-widgets/base",
          "model_name": "LayoutModel",
          "model_module_version": "1.2.0",
          "state": {
            "_model_module": "@jupyter-widgets/base",
            "_model_module_version": "1.2.0",
            "_model_name": "LayoutModel",
            "_view_count": null,
            "_view_module": "@jupyter-widgets/base",
            "_view_module_version": "1.2.0",
            "_view_name": "LayoutView",
            "align_content": null,
            "align_items": null,
            "align_self": null,
            "border": null,
            "bottom": null,
            "display": null,
            "flex": null,
            "flex_flow": null,
            "grid_area": null,
            "grid_auto_columns": null,
            "grid_auto_flow": null,
            "grid_auto_rows": null,
            "grid_column": null,
            "grid_gap": null,
            "grid_row": null,
            "grid_template_areas": null,
            "grid_template_columns": null,
            "grid_template_rows": null,
            "height": null,
            "justify_content": null,
            "justify_items": null,
            "left": null,
            "margin": null,
            "max_height": null,
            "max_width": null,
            "min_height": null,
            "min_width": null,
            "object_fit": null,
            "object_position": null,
            "order": null,
            "overflow": null,
            "overflow_x": null,
            "overflow_y": null,
            "padding": null,
            "right": null,
            "top": null,
            "visibility": null,
            "width": null
          }
        },
        "d10ff949b8364a64bbd3d74b3492f462": {
          "model_module": "@jupyter-widgets/controls",
          "model_name": "ProgressStyleModel",
          "model_module_version": "1.5.0",
          "state": {
            "_model_module": "@jupyter-widgets/controls",
            "_model_module_version": "1.5.0",
            "_model_name": "ProgressStyleModel",
            "_view_count": null,
            "_view_module": "@jupyter-widgets/base",
            "_view_module_version": "1.2.0",
            "_view_name": "StyleView",
            "bar_color": null,
            "description_width": ""
          }
        },
        "d77cea2f0bd14dbf9ed9fee5caa4321b": {
          "model_module": "@jupyter-widgets/base",
          "model_name": "LayoutModel",
          "model_module_version": "1.2.0",
          "state": {
            "_model_module": "@jupyter-widgets/base",
            "_model_module_version": "1.2.0",
            "_model_name": "LayoutModel",
            "_view_count": null,
            "_view_module": "@jupyter-widgets/base",
            "_view_module_version": "1.2.0",
            "_view_name": "LayoutView",
            "align_content": null,
            "align_items": null,
            "align_self": null,
            "border": null,
            "bottom": null,
            "display": null,
            "flex": null,
            "flex_flow": null,
            "grid_area": null,
            "grid_auto_columns": null,
            "grid_auto_flow": null,
            "grid_auto_rows": null,
            "grid_column": null,
            "grid_gap": null,
            "grid_row": null,
            "grid_template_areas": null,
            "grid_template_columns": null,
            "grid_template_rows": null,
            "height": null,
            "justify_content": null,
            "justify_items": null,
            "left": null,
            "margin": null,
            "max_height": null,
            "max_width": null,
            "min_height": null,
            "min_width": null,
            "object_fit": null,
            "object_position": null,
            "order": null,
            "overflow": null,
            "overflow_x": null,
            "overflow_y": null,
            "padding": null,
            "right": null,
            "top": null,
            "visibility": null,
            "width": null
          }
        },
        "aad401ad2443437f95603dcec31e16e6": {
          "model_module": "@jupyter-widgets/controls",
          "model_name": "DescriptionStyleModel",
          "model_module_version": "1.5.0",
          "state": {
            "_model_module": "@jupyter-widgets/controls",
            "_model_module_version": "1.5.0",
            "_model_name": "DescriptionStyleModel",
            "_view_count": null,
            "_view_module": "@jupyter-widgets/base",
            "_view_module_version": "1.2.0",
            "_view_name": "StyleView",
            "description_width": ""
          }
        }
      }
    }
  },
  "nbformat": 4,
  "nbformat_minor": 5
}